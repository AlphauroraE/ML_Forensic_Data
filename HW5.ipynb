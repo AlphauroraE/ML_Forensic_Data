{
 "cells": [
  {
   "cell_type": "code",
   "execution_count": 1,
   "metadata": {},
   "outputs": [],
   "source": [
    "import pandas as pd\n",
    "import numpy as np\n",
    "import matplotlib.pyplot as plt\n",
    "import sklearn"
   ]
  },
  {
   "cell_type": "code",
   "execution_count": 2,
   "metadata": {},
   "outputs": [],
   "source": [
    "#Remove later\n",
    "import os\n",
    "# os.chdir(\"C:/Users/Joanne/Documents/Statistics/\")\n",
    "os.chdir(\"C:/Users/qi750922/Documents/\")"
   ]
  },
  {
   "cell_type": "markdown",
   "metadata": {},
   "source": [
    "# Read in the Data"
   ]
  },
  {
   "cell_type": "code",
   "execution_count": 3,
   "metadata": {},
   "outputs": [
    {
     "data": {
      "text/html": [
       "<div>\n",
       "<style scoped>\n",
       "    .dataframe tbody tr th:only-of-type {\n",
       "        vertical-align: middle;\n",
       "    }\n",
       "\n",
       "    .dataframe tbody tr th {\n",
       "        vertical-align: top;\n",
       "    }\n",
       "\n",
       "    .dataframe thead th {\n",
       "        text-align: right;\n",
       "    }\n",
       "</style>\n",
       "<table border=\"1\" class=\"dataframe\">\n",
       "  <thead>\n",
       "    <tr style=\"text-align: right;\">\n",
       "      <th></th>\n",
       "      <th>0</th>\n",
       "      <th>1</th>\n",
       "      <th>2</th>\n",
       "      <th>3</th>\n",
       "      <th>4</th>\n",
       "      <th>5</th>\n",
       "      <th>6</th>\n",
       "      <th>7</th>\n",
       "      <th>8</th>\n",
       "      <th>9</th>\n",
       "      <th>...</th>\n",
       "      <th>2790</th>\n",
       "      <th>2791</th>\n",
       "      <th>2792</th>\n",
       "      <th>2793</th>\n",
       "      <th>2794</th>\n",
       "      <th>2795</th>\n",
       "      <th>2796</th>\n",
       "      <th>2797</th>\n",
       "      <th>2798</th>\n",
       "      <th>2799</th>\n",
       "    </tr>\n",
       "  </thead>\n",
       "  <tbody>\n",
       "    <tr>\n",
       "      <th>0</th>\n",
       "      <td>0</td>\n",
       "      <td>0</td>\n",
       "      <td>0</td>\n",
       "      <td>0</td>\n",
       "      <td>0</td>\n",
       "      <td>0</td>\n",
       "      <td>0</td>\n",
       "      <td>0</td>\n",
       "      <td>0</td>\n",
       "      <td>0</td>\n",
       "      <td>...</td>\n",
       "      <td>0</td>\n",
       "      <td>0</td>\n",
       "      <td>0</td>\n",
       "      <td>0</td>\n",
       "      <td>0</td>\n",
       "      <td>0</td>\n",
       "      <td>0</td>\n",
       "      <td>0</td>\n",
       "      <td>0</td>\n",
       "      <td>0</td>\n",
       "    </tr>\n",
       "    <tr>\n",
       "      <th>1</th>\n",
       "      <td>0</td>\n",
       "      <td>0</td>\n",
       "      <td>0</td>\n",
       "      <td>0</td>\n",
       "      <td>0</td>\n",
       "      <td>0</td>\n",
       "      <td>0</td>\n",
       "      <td>0</td>\n",
       "      <td>0</td>\n",
       "      <td>0</td>\n",
       "      <td>...</td>\n",
       "      <td>0</td>\n",
       "      <td>0</td>\n",
       "      <td>0</td>\n",
       "      <td>0</td>\n",
       "      <td>0</td>\n",
       "      <td>0</td>\n",
       "      <td>0</td>\n",
       "      <td>0</td>\n",
       "      <td>0</td>\n",
       "      <td>0</td>\n",
       "    </tr>\n",
       "    <tr>\n",
       "      <th>2</th>\n",
       "      <td>0</td>\n",
       "      <td>0</td>\n",
       "      <td>0</td>\n",
       "      <td>0</td>\n",
       "      <td>0</td>\n",
       "      <td>0</td>\n",
       "      <td>0</td>\n",
       "      <td>0</td>\n",
       "      <td>0</td>\n",
       "      <td>0</td>\n",
       "      <td>...</td>\n",
       "      <td>0</td>\n",
       "      <td>0</td>\n",
       "      <td>0</td>\n",
       "      <td>0</td>\n",
       "      <td>0</td>\n",
       "      <td>0</td>\n",
       "      <td>0</td>\n",
       "      <td>0</td>\n",
       "      <td>0</td>\n",
       "      <td>0</td>\n",
       "    </tr>\n",
       "    <tr>\n",
       "      <th>3</th>\n",
       "      <td>0</td>\n",
       "      <td>0</td>\n",
       "      <td>0</td>\n",
       "      <td>0</td>\n",
       "      <td>0</td>\n",
       "      <td>0</td>\n",
       "      <td>0</td>\n",
       "      <td>0</td>\n",
       "      <td>0</td>\n",
       "      <td>0</td>\n",
       "      <td>...</td>\n",
       "      <td>0</td>\n",
       "      <td>0</td>\n",
       "      <td>0</td>\n",
       "      <td>0</td>\n",
       "      <td>0</td>\n",
       "      <td>0</td>\n",
       "      <td>0</td>\n",
       "      <td>0</td>\n",
       "      <td>0</td>\n",
       "      <td>0</td>\n",
       "    </tr>\n",
       "    <tr>\n",
       "      <th>4</th>\n",
       "      <td>0</td>\n",
       "      <td>0</td>\n",
       "      <td>0</td>\n",
       "      <td>0</td>\n",
       "      <td>0</td>\n",
       "      <td>0</td>\n",
       "      <td>0</td>\n",
       "      <td>0</td>\n",
       "      <td>0</td>\n",
       "      <td>0</td>\n",
       "      <td>...</td>\n",
       "      <td>0</td>\n",
       "      <td>0</td>\n",
       "      <td>0</td>\n",
       "      <td>0</td>\n",
       "      <td>0</td>\n",
       "      <td>0</td>\n",
       "      <td>0</td>\n",
       "      <td>0</td>\n",
       "      <td>0</td>\n",
       "      <td>0</td>\n",
       "    </tr>\n",
       "  </tbody>\n",
       "</table>\n",
       "<p>5 rows × 2800 columns</p>\n",
       "</div>"
      ],
      "text/plain": [
       "   0     1     2     3     4     5     6     7     8     9     ...  2790  \\\n",
       "0     0     0     0     0     0     0     0     0     0     0  ...     0   \n",
       "1     0     0     0     0     0     0     0     0     0     0  ...     0   \n",
       "2     0     0     0     0     0     0     0     0     0     0  ...     0   \n",
       "3     0     0     0     0     0     0     0     0     0     0  ...     0   \n",
       "4     0     0     0     0     0     0     0     0     0     0  ...     0   \n",
       "\n",
       "   2791  2792  2793  2794  2795  2796  2797  2798  2799  \n",
       "0     0     0     0     0     0     0     0     0     0  \n",
       "1     0     0     0     0     0     0     0     0     0  \n",
       "2     0     0     0     0     0     0     0     0     0  \n",
       "3     0     0     0     0     0     0     0     0     0  \n",
       "4     0     0     0     0     0     0     0     0     0  \n",
       "\n",
       "[5 rows x 2800 columns]"
      ]
     },
     "execution_count": 3,
     "metadata": {},
     "output_type": "execute_result"
    }
   ],
   "source": [
    "df_tic = pd.read_table(\"2023-08-18-IS-tic.csv\",sep=',',header=None)\n",
    "df_tic.head()"
   ]
  },
  {
   "cell_type": "code",
   "execution_count": 4,
   "metadata": {},
   "outputs": [
    {
     "data": {
      "text/plain": [
       "0    IL\n",
       "1    IL\n",
       "2    IL\n",
       "3    IL\n",
       "4    IL\n",
       "Name: class, dtype: object"
      ]
     },
     "execution_count": 4,
     "metadata": {},
     "output_type": "execute_result"
    }
   ],
   "source": [
    "df_labels = pd.read_table(\"2023-08-18-MixDat.csv\",sep=',')\n",
    "\n",
    "#Double check this if correct. Only look at class column\n",
    "df_labels = df_labels[\"class\"]\n",
    "df_labels.head()"
   ]
  },
  {
   "cell_type": "markdown",
   "metadata": {},
   "source": [
    "# Split into train and test groups"
   ]
  },
  {
   "cell_type": "code",
   "execution_count": 5,
   "metadata": {},
   "outputs": [
    {
     "name": "stdout",
     "output_type": "stream",
     "text": [
      "       0     1     2     3     4     5     6     7     8     9     ...  2790  \\\n",
      "25772     0     0     0     0     0     0     0     0     0     0  ...     0   \n",
      "45791     0     0     0     0     0     0     0     0     0     0  ...     0   \n",
      "25396     0     0     0     0     0     0     0     0     0     0  ...     0   \n",
      "43835     0     0     0     0     0     0     0     0     0     0  ...     0   \n",
      "15782     0     0     0     0     0     0     0     0     0     0  ...     0   \n",
      "\n",
      "       2791  2792  2793  2794  2795  2796  2797  2798  2799  \n",
      "25772     0     0     0     0     0     0     0     0     0  \n",
      "45791     0     0     0     0     0     0     0     0     0  \n",
      "25396     0     0     0     0     0     0     0     0     0  \n",
      "43835     0     0     0     0     0     0     0     0     0  \n",
      "15782     0     0     0     0     0     0     0     0     0  \n",
      "\n",
      "[5 rows x 2800 columns]\n"
     ]
    }
   ],
   "source": [
    "from sklearn.model_selection import train_test_split\n",
    "np.random.seed(1)\n",
    "feat_train, feat_test, resp_train, resp_test = train_test_split(df_tic, df_labels, test_size=0.25)\n",
    "print(feat_train.head())"
   ]
  },
  {
   "cell_type": "markdown",
   "metadata": {},
   "source": [
    "# Scale and Center Columns with Mean and Standard Deviation"
   ]
  },
  {
   "cell_type": "code",
   "execution_count": 6,
   "metadata": {},
   "outputs": [
    {
     "data": {
      "text/html": [
       "<div>\n",
       "<style scoped>\n",
       "    .dataframe tbody tr th:only-of-type {\n",
       "        vertical-align: middle;\n",
       "    }\n",
       "\n",
       "    .dataframe tbody tr th {\n",
       "        vertical-align: top;\n",
       "    }\n",
       "\n",
       "    .dataframe thead th {\n",
       "        text-align: right;\n",
       "    }\n",
       "</style>\n",
       "<table border=\"1\" class=\"dataframe\">\n",
       "  <thead>\n",
       "    <tr style=\"text-align: right;\">\n",
       "      <th></th>\n",
       "      <th>0</th>\n",
       "      <th>1</th>\n",
       "      <th>2</th>\n",
       "      <th>3</th>\n",
       "      <th>4</th>\n",
       "      <th>5</th>\n",
       "      <th>6</th>\n",
       "      <th>7</th>\n",
       "      <th>8</th>\n",
       "      <th>9</th>\n",
       "      <th>...</th>\n",
       "      <th>2790</th>\n",
       "      <th>2791</th>\n",
       "      <th>2792</th>\n",
       "      <th>2793</th>\n",
       "      <th>2794</th>\n",
       "      <th>2795</th>\n",
       "      <th>2796</th>\n",
       "      <th>2797</th>\n",
       "      <th>2798</th>\n",
       "      <th>2799</th>\n",
       "    </tr>\n",
       "  </thead>\n",
       "  <tbody>\n",
       "    <tr>\n",
       "      <th>0</th>\n",
       "      <td>0.0</td>\n",
       "      <td>0.0</td>\n",
       "      <td>0.0</td>\n",
       "      <td>0.0</td>\n",
       "      <td>0.0</td>\n",
       "      <td>0.0</td>\n",
       "      <td>0.0</td>\n",
       "      <td>0.0</td>\n",
       "      <td>0.0</td>\n",
       "      <td>0.0</td>\n",
       "      <td>...</td>\n",
       "      <td>0.0</td>\n",
       "      <td>0.0</td>\n",
       "      <td>0.0</td>\n",
       "      <td>0.0</td>\n",
       "      <td>0.0</td>\n",
       "      <td>0.0</td>\n",
       "      <td>0.0</td>\n",
       "      <td>0.0</td>\n",
       "      <td>0.0</td>\n",
       "      <td>0.0</td>\n",
       "    </tr>\n",
       "    <tr>\n",
       "      <th>1</th>\n",
       "      <td>0.0</td>\n",
       "      <td>0.0</td>\n",
       "      <td>0.0</td>\n",
       "      <td>0.0</td>\n",
       "      <td>0.0</td>\n",
       "      <td>0.0</td>\n",
       "      <td>0.0</td>\n",
       "      <td>0.0</td>\n",
       "      <td>0.0</td>\n",
       "      <td>0.0</td>\n",
       "      <td>...</td>\n",
       "      <td>0.0</td>\n",
       "      <td>0.0</td>\n",
       "      <td>0.0</td>\n",
       "      <td>0.0</td>\n",
       "      <td>0.0</td>\n",
       "      <td>0.0</td>\n",
       "      <td>0.0</td>\n",
       "      <td>0.0</td>\n",
       "      <td>0.0</td>\n",
       "      <td>0.0</td>\n",
       "    </tr>\n",
       "    <tr>\n",
       "      <th>2</th>\n",
       "      <td>0.0</td>\n",
       "      <td>0.0</td>\n",
       "      <td>0.0</td>\n",
       "      <td>0.0</td>\n",
       "      <td>0.0</td>\n",
       "      <td>0.0</td>\n",
       "      <td>0.0</td>\n",
       "      <td>0.0</td>\n",
       "      <td>0.0</td>\n",
       "      <td>0.0</td>\n",
       "      <td>...</td>\n",
       "      <td>0.0</td>\n",
       "      <td>0.0</td>\n",
       "      <td>0.0</td>\n",
       "      <td>0.0</td>\n",
       "      <td>0.0</td>\n",
       "      <td>0.0</td>\n",
       "      <td>0.0</td>\n",
       "      <td>0.0</td>\n",
       "      <td>0.0</td>\n",
       "      <td>0.0</td>\n",
       "    </tr>\n",
       "    <tr>\n",
       "      <th>3</th>\n",
       "      <td>0.0</td>\n",
       "      <td>0.0</td>\n",
       "      <td>0.0</td>\n",
       "      <td>0.0</td>\n",
       "      <td>0.0</td>\n",
       "      <td>0.0</td>\n",
       "      <td>0.0</td>\n",
       "      <td>0.0</td>\n",
       "      <td>0.0</td>\n",
       "      <td>0.0</td>\n",
       "      <td>...</td>\n",
       "      <td>0.0</td>\n",
       "      <td>0.0</td>\n",
       "      <td>0.0</td>\n",
       "      <td>0.0</td>\n",
       "      <td>0.0</td>\n",
       "      <td>0.0</td>\n",
       "      <td>0.0</td>\n",
       "      <td>0.0</td>\n",
       "      <td>0.0</td>\n",
       "      <td>0.0</td>\n",
       "    </tr>\n",
       "    <tr>\n",
       "      <th>4</th>\n",
       "      <td>0.0</td>\n",
       "      <td>0.0</td>\n",
       "      <td>0.0</td>\n",
       "      <td>0.0</td>\n",
       "      <td>0.0</td>\n",
       "      <td>0.0</td>\n",
       "      <td>0.0</td>\n",
       "      <td>0.0</td>\n",
       "      <td>0.0</td>\n",
       "      <td>0.0</td>\n",
       "      <td>...</td>\n",
       "      <td>0.0</td>\n",
       "      <td>0.0</td>\n",
       "      <td>0.0</td>\n",
       "      <td>0.0</td>\n",
       "      <td>0.0</td>\n",
       "      <td>0.0</td>\n",
       "      <td>0.0</td>\n",
       "      <td>0.0</td>\n",
       "      <td>0.0</td>\n",
       "      <td>0.0</td>\n",
       "    </tr>\n",
       "  </tbody>\n",
       "</table>\n",
       "<p>5 rows × 2800 columns</p>\n",
       "</div>"
      ],
      "text/plain": [
       "   0     1     2     3     4     5     6     7     8     9     ...  2790  \\\n",
       "0   0.0   0.0   0.0   0.0   0.0   0.0   0.0   0.0   0.0   0.0  ...   0.0   \n",
       "1   0.0   0.0   0.0   0.0   0.0   0.0   0.0   0.0   0.0   0.0  ...   0.0   \n",
       "2   0.0   0.0   0.0   0.0   0.0   0.0   0.0   0.0   0.0   0.0  ...   0.0   \n",
       "3   0.0   0.0   0.0   0.0   0.0   0.0   0.0   0.0   0.0   0.0  ...   0.0   \n",
       "4   0.0   0.0   0.0   0.0   0.0   0.0   0.0   0.0   0.0   0.0  ...   0.0   \n",
       "\n",
       "   2791  2792  2793  2794  2795  2796  2797  2798  2799  \n",
       "0   0.0   0.0   0.0   0.0   0.0   0.0   0.0   0.0   0.0  \n",
       "1   0.0   0.0   0.0   0.0   0.0   0.0   0.0   0.0   0.0  \n",
       "2   0.0   0.0   0.0   0.0   0.0   0.0   0.0   0.0   0.0  \n",
       "3   0.0   0.0   0.0   0.0   0.0   0.0   0.0   0.0   0.0  \n",
       "4   0.0   0.0   0.0   0.0   0.0   0.0   0.0   0.0   0.0  \n",
       "\n",
       "[5 rows x 2800 columns]"
      ]
     },
     "execution_count": 6,
     "metadata": {},
     "output_type": "execute_result"
    }
   ],
   "source": [
    "# Code from knn_svm_python.ipynb\n",
    "np.random.seed(1)\n",
    "from sklearn.preprocessing import StandardScaler\n",
    "scaler = StandardScaler()\n",
    "\n",
    "# get mean and standard deviation for each column according to train data\n",
    "scaler.fit(feat_train)\n",
    "# scale columns of train and test data\n",
    "feat_train = scaler.transform(feat_train)\n",
    "feat_test = scaler.transform(feat_test)\n",
    "\n",
    "pd.DataFrame(feat_train).head()"
   ]
  },
  {
   "cell_type": "markdown",
   "metadata": {},
   "source": [
    "# Machine Learning Models:"
   ]
  },
  {
   "cell_type": "code",
   "execution_count": 8,
   "metadata": {},
   "outputs": [],
   "source": [
    "# Function to convert to a numerical representation:\n",
    "def convertPred(alphaversion):\n",
    "    np.random.seed(1)\n",
    "    yhat_numRep = []\n",
    "\n",
    "    for i in range(len(alphaversion)):\n",
    "        if (alphaversion[i] == \"IL\"):\n",
    "            yhat_numRep.append(1)\n",
    "        elif (alphaversion[i] == \"SUB\"):\n",
    "            yhat_numRep.append(0)\n",
    "    return yhat_numRep\n",
    "\n",
    "def convertTrue(alphaversion):\n",
    "    np.random.seed(1)\n",
    "    resp_test_numRep = []\n",
    "\n",
    "    for val in alphaversion:\n",
    "        if (val == \"IL\"):\n",
    "            resp_test_numRep.append(1)\n",
    "        elif (val == \"SUB\"):\n",
    "            resp_test_numRep.append(0)\n",
    "    return resp_test_numRep\n",
    "\n",
    "def findMSE(pred_alpha,true_alpha,model):\n",
    "    pred_numeric = convertPred(pred_alpha)\n",
    "    true_numeric = convertTrue(true_alpha)\n",
    "    error = mean_squared_error(pred_numeric,true_numeric,squared=False)\n",
    "    print(f\"{error} is the MSE of {model}\")\n",
    "    return pred_numeric, true_numeric"
   ]
  },
  {
   "cell_type": "code",
   "execution_count": 11,
   "metadata": {},
   "outputs": [],
   "source": [
    "# Create a function to generate ROC and AUC of any model\n",
    "\n",
    "# Check order: real and then pred?\n",
    "def makeROC(pred_numeric, true_numeric, model):\n",
    "    np.random.seed(1)\n",
    "    from sklearn.metrics import roc_curve, auc\n",
    "\n",
    "    # metrics for logistic regression\n",
    "    fpr_log, tpr_log, _ = roc_curve(true_numeric, pred_numeric)\n",
    "    auc_log = auc(fpr_log, tpr_log)\n",
    "\n",
    "    # plot the info\n",
    "    plt.plot(fpr_log, tpr_log, label='AUC: {0:0.2f}'.format(auc_log))\n",
    "\n",
    "    plt.xlabel('False Positive Rate')\n",
    "    plt.ylabel('True Positive Rate')\n",
    "    plt.title(f'ROC for {model}')\n",
    "    plt.legend(loc='lower right')"
   ]
  },
  {
   "cell_type": "markdown",
   "metadata": {},
   "source": [
    "# Logistic Regression: "
   ]
  },
  {
   "cell_type": "code",
   "execution_count": 7,
   "metadata": {},
   "outputs": [],
   "source": [
    "from sklearn.linear_model import LogisticRegression\n",
    "from sklearn.metrics import mean_squared_error\n",
    "np.random.seed(1)\n",
    "logReg = LogisticRegression(max_iter=1500).fit(feat_train, resp_train)\n",
    "logReg_yhat = logReg.predict(feat_test)"
   ]
  },
  {
   "cell_type": "code",
   "execution_count": 9,
   "metadata": {},
   "outputs": [
    {
     "name": "stdout",
     "output_type": "stream",
     "text": [
      "0.07211102550927978 is the MSE of logistic regression\n"
     ]
    }
   ],
   "source": [
    "# print(logReg_yhat)\n",
    "# print(resp_test)\n",
    "np.random.seed(1)\n",
    "\n",
    "# Here i made numerical representations for the sake of calculating MSE\n",
    "logReg_yhat_numRep = []\n",
    "resp_test_numRep = []\n",
    "\n",
    "for i in range(len(logReg_yhat)):\n",
    "    if (logReg_yhat[i] == \"IL\"):\n",
    "        logReg_yhat_numRep.append(1)\n",
    "    elif (logReg_yhat[i] == \"SUB\"):\n",
    "        logReg_yhat_numRep.append(0)\n",
    "\n",
    "for val in resp_test:\n",
    "    if (val == \"IL\"):\n",
    "        resp_test_numRep.append(1)\n",
    "    elif (val == \"SUB\"):\n",
    "        resp_test_numRep.append(0)\n",
    "\n",
    "# print(logReg_yhat_numRep)\n",
    "# print(resp_test_numRep)\n",
    "\n",
    "error = mean_squared_error(logReg_yhat_numRep,resp_test_numRep,squared=False)\n",
    "print(f\"{error} is the MSE of logistic regression\")"
   ]
  },
  {
   "cell_type": "code",
   "execution_count": 10,
   "metadata": {},
   "outputs": [
    {
     "name": "stdout",
     "output_type": "stream",
     "text": [
      "0.07211102550927978 is the MSE of logistic regression\n"
     ]
    }
   ],
   "source": [
    "logReg_yhat_numRep, resp_test_numRep = findMSE(logReg_yhat,resp_test,\"logistic regression\")"
   ]
  },
  {
   "cell_type": "code",
   "execution_count": 12,
   "metadata": {},
   "outputs": [
    {
     "data": {
      "text/plain": [
       "<matplotlib.legend.Legend at 0x281105cd130>"
      ]
     },
     "execution_count": 12,
     "metadata": {},
     "output_type": "execute_result"
    },
    {
     "data": {
      "image/png": "[encoded data removed]",
      "text/plain": [
       "<Figure size 640x480 with 1 Axes>"
      ]
     },
     "metadata": {},
     "output_type": "display_data"
    }
   ],
   "source": [
    "# Code adapted from knn_svm_python.ipynb\n",
    "# Create an ROC curve for Logistic Regression\n",
    "np.random.seed(1)\n",
    "from sklearn.metrics import roc_curve, auc\n",
    "\n",
    "# metrics for logistic regression\n",
    "fpr_log, tpr_log, _ = roc_curve(resp_test_numRep, logReg_yhat_numRep)\n",
    "auc_log = auc(fpr_log, tpr_log)\n",
    "\n",
    "# plot the info\n",
    "plt.plot(fpr_log, tpr_log, label='Logistic Regression AUC: {0:0.2f}'.format(auc_log))\n",
    "\n",
    "plt.xlabel('False Positive Rate')\n",
    "plt.ylabel('True Positive Rate')\n",
    "plt.title('ROC for Logistic Regression')\n",
    "plt.legend(loc='lower right')"
   ]
  },
  {
   "cell_type": "code",
   "execution_count": 13,
   "metadata": {},
   "outputs": [
    {
     "data": {
      "image/png": "[encoded data removed]",
      "text/plain": [
       "<Figure size 640x480 with 1 Axes>"
      ]
     },
     "metadata": {},
     "output_type": "display_data"
    }
   ],
   "source": [
    "makeROC(logReg_yhat_numRep,resp_test_numRep, \"Logistic Regression\")"
   ]
  },
  {
   "cell_type": "markdown",
   "metadata": {},
   "source": [
    "# Linear Discriminant Analysis:"
   ]
  },
  {
   "cell_type": "code",
   "execution_count": 14,
   "metadata": {},
   "outputs": [
    {
     "name": "stdout",
     "output_type": "stream",
     "text": [
      "(37500, 2800)\n",
      "(37500,)\n",
      "['SUB' 'SUB' 'SUB' ... 'SUB' 'IL' 'SUB']\n"
     ]
    }
   ],
   "source": [
    "from sklearn.discriminant_analysis import LinearDiscriminantAnalysis\n",
    "np.random.seed(1)\n",
    "print(feat_train.shape)\n",
    "print(resp_train.shape)\n",
    "lda = LinearDiscriminantAnalysis().fit(feat_train, resp_train)\n",
    "lda_yhat = lda.predict(feat_test)\n",
    "print(lda_yhat)"
   ]
  },
  {
   "cell_type": "code",
   "execution_count": 15,
   "metadata": {},
   "outputs": [
    {
     "name": "stdout",
     "output_type": "stream",
     "text": [
      "0.288859827598093 is the MSE of LDA\n"
     ]
    }
   ],
   "source": [
    "lda_yhat_numeric,resp_test_numeric = findMSE(lda_yhat,resp_test,\"LDA\")"
   ]
  },
  {
   "cell_type": "code",
   "execution_count": 16,
   "metadata": {},
   "outputs": [
    {
     "data": {
      "image/png": "[encoded data removed]",
      "text/plain": [
       "<Figure size 640x480 with 1 Axes>"
      ]
     },
     "metadata": {},
     "output_type": "display_data"
    }
   ],
   "source": [
    "makeROC(lda_yhat_numeric,resp_test_numeric,\"LDA\")"
   ]
  },
  {
   "cell_type": "markdown",
   "metadata": {},
   "source": [
    "# KNN Classifier:"
   ]
  },
  {
   "cell_type": "markdown",
   "metadata": {},
   "source": [
    "Need to choose the number of neighbors k"
   ]
  },
  {
   "cell_type": "markdown",
   "metadata": {},
   "source": [
    "Scikit learn has a built in function, GridSearchCV, that performs cross-validation in order to find the best hyperparameter from a specified list of hyperparameter options. It exhaustively tries each listed value of the specified hyperparameter. If there are multiple hyperparameters, it will try every possible combination of the values specified. It will then select the hyperparameter(s) with the best score. By default, it performs 5-fold cross-validation.\n",
    "\n",
    "[GridSearchCV](https://scikit-learn.org/stable/modules/generated/sklearn.model_selection.GridSearchCV.html#sklearn.model_selection.GridSearchCV)"
   ]
  },
  {
   "cell_type": "code",
   "execution_count": 17,
   "metadata": {},
   "outputs": [
    {
     "name": "stdout",
     "output_type": "stream",
     "text": [
      "{'n_neighbors': 1}\n",
      "KNeighborsClassifier(n_neighbors=1)\n",
      "0.8391466666666666\n"
     ]
    }
   ],
   "source": [
    "from sklearn.model_selection import GridSearchCV\n",
    "from sklearn.neighbors import KNeighborsClassifier\n",
    "np.random.seed(1)\n",
    "\n",
    "# I decided to explore this range of potential k values, from 1 at minimum to 100 maximum.\n",
    "knn_params = {'n_neighbors' : [1, 3, 5, 10, 15, 20, 25, 50, 75, 100]}\n",
    "\n",
    "knn_clf = GridSearchCV(estimator=KNeighborsClassifier(), param_grid=knn_params)\n",
    "knn_clf.fit(feat_train,resp_train)\n",
    "\n",
    "# Here I output the best parameter, best estimator with that parameter, and best score\n",
    "print(knn_clf.best_params_)\n",
    "print(knn_clf.best_estimator_)\n",
    "# This is the mean cross-validated score of the best estimator\n",
    "print(knn_clf.best_score_)\n"
   ]
  },
  {
   "cell_type": "code",
   "execution_count": 18,
   "metadata": {},
   "outputs": [
    {
     "name": "stdout",
     "output_type": "stream",
     "text": [
      "['SUB' 'SUB' 'SUB' ... 'SUB' 'IL' 'SUB']\n"
     ]
    }
   ],
   "source": [
    "knn_yhat = knn_clf.predict(feat_test)\n",
    "print(knn_yhat)"
   ]
  },
  {
   "cell_type": "code",
   "execution_count": 19,
   "metadata": {},
   "outputs": [
    {
     "name": "stdout",
     "output_type": "stream",
     "text": [
      "0.4043760625952036 is the MSE of kNN\n"
     ]
    }
   ],
   "source": [
    "knn_yhat_numeric,resp_test_numeric = findMSE(knn_yhat,resp_test,\"kNN\")"
   ]
  },
  {
   "cell_type": "code",
   "execution_count": 20,
   "metadata": {},
   "outputs": [
    {
     "data": {
      "image/png": "[encoded data removed]",
      "text/plain": [
       "<Figure size 640x480 with 1 Axes>"
      ]
     },
     "metadata": {},
     "output_type": "display_data"
    }
   ],
   "source": [
    "makeROC(knn_yhat_numeric,resp_test_numeric,\"kNN\")"
   ]
  },
  {
   "cell_type": "markdown",
   "metadata": {},
   "source": [
    "# Linear Support Vector Machine:"
   ]
  },
  {
   "cell_type": "code",
   "execution_count": 21,
   "metadata": {},
   "outputs": [
    {
     "name": "stdout",
     "output_type": "stream",
     "text": [
      "{'C': 1, 'kernel': 'linear'}\n",
      "SVC(C=1, kernel='linear')\n",
      "0.9960266666666666\n"
     ]
    }
   ],
   "source": [
    "from sklearn.svm import SVC\n",
    "from sklearn.model_selection import GridSearchCV\n",
    "np.random.seed(1)\n",
    "\n",
    "# Since linear is the only option for kernel, this will make a linear SVM.\n",
    "# C's value ranges from 1 to 10. I conducted this experiment with C from 1 to 100, \n",
    "# and it chose 1 as the best after 30 min. So in the interest of time, I am just using 1 and 10.\n",
    "# C is the margin penalty and specifies how wide the margin can be, \n",
    "# and thus how many mistakes can be made.\n",
    "# Large values of C = smaller margin\n",
    "# Small values of C = larger margin\n",
    "linSVM_params = {'kernel' : ['linear'], 'C' : [1, 10]}\n",
    "\n",
    "linSVM_clf = GridSearchCV(estimator=SVC(), param_grid=linSVM_params)\n",
    "linSVM_clf.fit(feat_train,resp_train)\n",
    "\n",
    "# Here I output the best parameter, best estimator with that parameter, and best score\n",
    "print(linSVM_clf.best_params_)\n",
    "print(linSVM_clf.best_estimator_)\n",
    "# This is the best mean cross-validated score of the best estimator\n",
    "print(linSVM_clf.best_score_)\n"
   ]
  },
  {
   "cell_type": "code",
   "execution_count": 22,
   "metadata": {},
   "outputs": [
    {
     "name": "stdout",
     "output_type": "stream",
     "text": [
      "['SUB' 'SUB' 'SUB' ... 'SUB' 'IL' 'SUB']\n"
     ]
    }
   ],
   "source": [
    "linSVM_yhat = linSVM_clf.predict(feat_test)\n",
    "print(linSVM_yhat)"
   ]
  },
  {
   "cell_type": "code",
   "execution_count": 23,
   "metadata": {},
   "outputs": [
    {
     "name": "stdout",
     "output_type": "stream",
     "text": [
      "0.052153619241621194 is the MSE of linear SVM\n"
     ]
    }
   ],
   "source": [
    "linSVM_yhat_numeric,resp_test_numeric = findMSE(linSVM_yhat,resp_test,\"linear SVM\")"
   ]
  },
  {
   "cell_type": "code",
   "execution_count": 24,
   "metadata": {},
   "outputs": [
    {
     "data": {
      "image/png": "[encoded data removed]",
      "text/plain": [
       "<Figure size 640x480 with 1 Axes>"
      ]
     },
     "metadata": {},
     "output_type": "display_data"
    }
   ],
   "source": [
    "makeROC(linSVM_yhat_numeric,resp_test_numeric,\"Linear SVM\")"
   ]
  },
  {
   "cell_type": "markdown",
   "metadata": {},
   "source": [
    "# Gaussian (Radial) Support Vector Machine"
   ]
  },
  {
   "cell_type": "code",
   "execution_count": 25,
   "metadata": {},
   "outputs": [],
   "source": [
    "from sklearn.svm import SVC\n",
    "from sklearn.model_selection import GridSearchCV\n",
    "np.random.seed(1)\n",
    "\n",
    "# Since rbf is the only option for kernel, this will make a Gaussian (radial) SVM.\n",
    "# rbf stands for radial basis function kernel and is the same as a Gaussian (radial) kernel\n",
    "# C's value ranges from 1 to 100. \n",
    "# gamma's values range from 0.1 to 100\n",
    "gaussSVM_params = {'kernel' : ['rbf'], 'C' : [1, 10, 100], 'gamma' : [0.1, 1, 10, 100]}\n",
    "\n",
    "gaussSVM_clf = GridSearchCV(estimator=SVC(), param_grid=gaussSVM_params)\n",
    "gaussSVM_clf.fit(feat_train,resp_train)\n",
    "\n",
    "# Here I output the best parameter, best estimator with that parameter, and best score\n",
    "print(gaussSVM_clf.best_params_)\n",
    "print(gaussSVM_clf.best_estimator_)\n",
    "# This is the best mean cross-validated score of the best estimator\n",
    "print(gaussSVM_clf.best_score_)"
   ]
  },
  {
   "cell_type": "code",
   "execution_count": null,
   "metadata": {},
   "outputs": [],
   "source": [
    "gaussSVM_yhat = gaussSVM_clf.predict(feat_test)\n",
    "print(gaussSVM_yhat)"
   ]
  },
  {
   "cell_type": "code",
   "execution_count": null,
   "metadata": {},
   "outputs": [],
   "source": [
    "gaussSVM_yhat_numeric,resp_test_numeric = findMSE(gaussSVM_yhat,resp_test,\"Gaussian (radial) SVM\")"
   ]
  },
  {
   "cell_type": "code",
   "execution_count": null,
   "metadata": {},
   "outputs": [],
   "source": [
    "makeROC(gaussSVM_yhat_numeric,resp_test_numeric,\"Gaussian (Radial) SVM\")"
   ]
  },
  {
   "cell_type": "markdown",
   "metadata": {},
   "source": [
    "# MAGIC Dataset"
   ]
  },
  {
   "cell_type": "markdown",
   "metadata": {},
   "source": [
    "# Read in Data"
   ]
  },
  {
   "cell_type": "code",
   "execution_count": null,
   "metadata": {},
   "outputs": [],
   "source": [
    "# 4:50 start \n",
    "magic = pd.read_table(\"magic04.data\",sep=',',header=None)\n",
    "magic = magic.rename(columns={0: 'fLength', 1:'fWidth',2:'fSize',3:'fConc',4:'fConc1',5:'fAsym',6:'fM3Long',7:'fM3Trans',8:'fAlpha',9:'fDist',10:'class'})\n",
    "magic.head()"
   ]
  },
  {
   "cell_type": "code",
   "execution_count": null,
   "metadata": {},
   "outputs": [],
   "source": [
    "# Convert class column to categorical\n",
    "magic[\"class\"] = magic[\"class\"].astype('category')\n",
    "magic.head()"
   ]
  },
  {
   "cell_type": "code",
   "execution_count": null,
   "metadata": {},
   "outputs": [],
   "source": [
    "# Separate features/predictors from response\n",
    "magic_feats = magic.drop(columns=['class'])\n",
    "magic_resp = np.array(magic['class'])\n",
    "\n",
    "print(magic_feats[:5])\n",
    "print(magic_resp)\n",
    "magic_cols = magic_feats.columns\n",
    "print(magic_cols)"
   ]
  },
  {
   "cell_type": "markdown",
   "metadata": {},
   "source": [
    "# Split into Training and Testing Sets"
   ]
  },
  {
   "cell_type": "code",
   "execution_count": null,
   "metadata": {},
   "outputs": [],
   "source": [
    "from sklearn.model_selection import train_test_split\n",
    "np.random.seed(1)\n",
    "m_feat_train, m_feat_test, m_resp_train, m_resp_test = train_test_split(magic_feats, magic_resp, test_size=0.25)\n",
    "print(m_feat_train.head())"
   ]
  },
  {
   "cell_type": "markdown",
   "metadata": {},
   "source": [
    "# Scale and Center Columns with Mean and Standard Deviation"
   ]
  },
  {
   "cell_type": "code",
   "execution_count": null,
   "metadata": {},
   "outputs": [],
   "source": [
    "# Code from knn_svm_python.ipynb\n",
    "np.random.seed(1)\n",
    "from sklearn.preprocessing import StandardScaler\n",
    "scaler = StandardScaler()\n",
    "\n",
    "# get mean and standard deviation for each column according to train data\n",
    "scaler.fit(m_feat_train)\n",
    "# scale columns of train and test data\n",
    "m_feat_train = scaler.transform(m_feat_train)\n",
    "m_feat_test = scaler.transform(m_feat_test)"
   ]
  },
  {
   "cell_type": "markdown",
   "metadata": {},
   "source": [
    "# Machine Learning Models"
   ]
  },
  {
   "cell_type": "code",
   "execution_count": null,
   "metadata": {},
   "outputs": [],
   "source": [
    "# Create a function for converting Magic data into numeric and a function for calculating MSE\n",
    "\n",
    "def convertMagic(alphaversion):\n",
    "    numeric = []\n",
    "\n",
    "    for val in alphaversion:\n",
    "        if (val == \"g\"):\n",
    "            numeric.append(1)\n",
    "        elif (val == \"h\"):\n",
    "            numeric.append(0)\n",
    "    return numeric\n",
    "\n",
    "def findMagicMSE(pred_alpha,true_alpha,model):\n",
    "    pred_numeric = convertMagic(pred_alpha)\n",
    "    true_numeric = convertMagic(true_alpha)\n",
    "    # print(pred_numeric)\n",
    "    # print(true_numeric)\n",
    "    error = mean_squared_error(pred_numeric,true_numeric,squared=False)\n",
    "    print(f\"{error} is the MSE of {model}\")\n",
    "    return pred_numeric, true_numeric"
   ]
  },
  {
   "cell_type": "markdown",
   "metadata": {},
   "source": [
    "# Logistic Regression:"
   ]
  },
  {
   "cell_type": "code",
   "execution_count": null,
   "metadata": {},
   "outputs": [],
   "source": [
    "from sklearn.linear_model import LogisticRegression\n",
    "from sklearn.metrics import mean_squared_error\n",
    "np.random.seed(1)\n",
    "m_logReg = LogisticRegression(max_iter=1500).fit(m_feat_train, m_resp_train)\n",
    "m_logReg_yhat = m_logReg.predict(m_feat_test)"
   ]
  },
  {
   "cell_type": "code",
   "execution_count": null,
   "metadata": {},
   "outputs": [],
   "source": [
    "# print(m_logReg_yhat)\n",
    "# print(m_resp_test)\n",
    "\n",
    "np.random.seed(1)\n",
    "# # Here i made numerical representations for the sake of calculating MSE\n",
    "m_logReg_yhat_numRep = []\n",
    "m_resp_test_numRep = []\n",
    "\n",
    "for val in m_logReg_yhat:\n",
    "    if (val == \"g\"):\n",
    "        m_logReg_yhat_numRep.append(1)\n",
    "    elif (val == \"h\"):\n",
    "        m_logReg_yhat_numRep.append(0)\n",
    "\n",
    "for val in m_resp_test:\n",
    "    if (val == \"g\"):\n",
    "        m_resp_test_numRep.append(1)\n",
    "    elif (val == \"h\"):\n",
    "        m_resp_test_numRep.append(0)\n",
    "\n",
    "print(m_logReg_yhat_numRep)\n",
    "print(m_resp_test_numRep)\n",
    "\n",
    "error = mean_squared_error(m_logReg_yhat_numRep,m_resp_test_numRep,squared=False)\n",
    "print(f\"{error} is the MSE of logistic regression\")"
   ]
  },
  {
   "cell_type": "code",
   "execution_count": null,
   "metadata": {},
   "outputs": [],
   "source": [
    "m_logReg_yhat_numRep, m_resp_test_numRep = findMagicMSE(m_logReg_yhat,m_resp_test,\"logistic regression\")"
   ]
  },
  {
   "cell_type": "code",
   "execution_count": null,
   "metadata": {},
   "outputs": [],
   "source": [
    "# Code adapted from knn_svm_python.ipynb\n",
    "# Create an ROC curve for Logistic Regression\n",
    "np.random.seed(1)\n",
    "from sklearn.metrics import roc_curve, auc\n",
    "\n",
    "# metrics for logistic regression\n",
    "m_fpr_log, m_tpr_log, _ = roc_curve(m_resp_test_numRep, m_logReg_yhat_numRep)\n",
    "m_auc_log = auc(m_fpr_log, m_tpr_log)\n",
    "\n",
    "# plot the info\n",
    "plt.plot(m_fpr_log, m_tpr_log, label='Logistic Regression AUC: {0:0.2f}'.format(m_auc_log))\n",
    "\n",
    "plt.xlabel('False Positive Rate')\n",
    "plt.ylabel('True Positive Rate')\n",
    "plt.title('ROC for Logistic Regression')\n",
    "plt.legend(loc='lower right')"
   ]
  },
  {
   "cell_type": "code",
   "execution_count": null,
   "metadata": {},
   "outputs": [],
   "source": [
    "makeROC(m_logReg_yhat_numRep,m_resp_test_numRep, \"Logistic Regression\")"
   ]
  },
  {
   "cell_type": "markdown",
   "metadata": {},
   "source": [
    "### Most meaningful predictors for Logistic Regression: ..."
   ]
  },
  {
   "cell_type": "markdown",
   "metadata": {},
   "source": [
    "The [statsmodel library enables printing of p-values](https://www.geeksforgeeks.org/logistic-regression-using-statsmodels/), similar to the summary function in R.\n",
    "\n"
   ]
  },
  {
   "cell_type": "code",
   "execution_count": null,
   "metadata": {},
   "outputs": [],
   "source": [
    "import statsmodels.api as sm \n",
    "\n",
    "# convert the response variable to numeric form to work with statsmodels\n",
    "m_resp_train_numeric = convertMagic(m_resp_train)\n",
    "\n",
    "# Here build a logistic regression model using statsmodels library. The y precedes the x syntactically.\n",
    "sm_log_reg = sm.Logit(m_resp_train_numeric, m_feat_train).fit() \n",
    "\n",
    "# The summary function here is similar to the summary function in R, and the p-value is displayed so we can identify the most meaningful predictors.\n",
    "print(sm_log_reg.summary())"
   ]
  },
  {
   "cell_type": "markdown",
   "metadata": {},
   "source": [
    "If p < 0.5, the predictor is significant.\n",
    "\n",
    "In that case, the following predictors are the most meaningful:\n",
    "- x1: fLength\n",
    "- x2: fWidth\n",
    "- x3: fSize\n",
    "- x5: fConc1\n",
    "- x7: fM3Long\n",
    "- x9: fAlpha"
   ]
  },
  {
   "cell_type": "code",
   "execution_count": null,
   "metadata": {},
   "outputs": [],
   "source": [
    "# Print the coefficients of each predictor used in magic logistic regression\n",
    "for i in range(len(magic_cols)):\n",
    "    print(f\"{magic_cols[i]}: {m_logReg.coef_[0][i]}\")\n",
    "\n",
    "# print(magic_cols)\n",
    "# print(m_logReg.coef_[0])"
   ]
  },
  {
   "cell_type": "markdown",
   "metadata": {},
   "source": [
    "Larger coefficients do not necessarily indicate more meaningful coefficients, but it appears fLength, fAlpha, fConc1, fM3Long, and fSize have larger coefficients than other predictors. Interestingly, these are also predictors the p-value above deemed significant.\n"
   ]
  },
  {
   "cell_type": "markdown",
   "metadata": {},
   "source": [
    "# Linear Discriminant Analysis:"
   ]
  },
  {
   "cell_type": "code",
   "execution_count": null,
   "metadata": {},
   "outputs": [],
   "source": [
    "from sklearn.discriminant_analysis import LinearDiscriminantAnalysis\n",
    "np.random.seed(1)\n",
    "\n",
    "m_lda = LinearDiscriminantAnalysis().fit(m_feat_train, m_resp_train)\n",
    "m_lda_yhat = m_lda.predict(m_feat_test)\n",
    "print(m_lda_yhat)"
   ]
  },
  {
   "cell_type": "code",
   "execution_count": null,
   "metadata": {},
   "outputs": [],
   "source": [
    "# np.random.seed(1)\n",
    "# # # Here i made numerical representations for the sake of calculating MSE\n",
    "# m_lda_yhat_numRep = []\n",
    "# m_resp_test_numRep = []\n",
    "\n",
    "# for val in m_lda_yhat:\n",
    "#     if (val == \"g\"):\n",
    "#         m_lda_yhat_numRep.append(1)\n",
    "#     elif (val == \"h\"):\n",
    "#         m_lda_yhat_numRep.append(0)\n",
    "\n",
    "# for val in m_resp_test:\n",
    "#     if (val == \"g\"):\n",
    "#         m_resp_test_numRep.append(1)\n",
    "#     elif (val == \"h\"):\n",
    "#         m_resp_test_numRep.append(0)\n",
    "\n",
    "# print(m_lda_yhat_numRep)\n",
    "# print(m_resp_test_numRep)\n",
    "\n",
    "# error = mean_squared_error(m_lda_yhat_numRep,m_resp_test_numRep,squared=False)\n",
    "# print(f\"{error} is the MSE of LDA\")"
   ]
  },
  {
   "cell_type": "code",
   "execution_count": null,
   "metadata": {},
   "outputs": [],
   "source": [
    "m_lda_yhat_numRep, m_resp_test_numRep = findMagicMSE(m_lda_yhat,m_resp_test,\"LDA\")"
   ]
  },
  {
   "cell_type": "code",
   "execution_count": null,
   "metadata": {},
   "outputs": [],
   "source": [
    "makeROC(m_lda_yhat_numRep,m_resp_test_numRep, \"LDA\")"
   ]
  },
  {
   "cell_type": "markdown",
   "metadata": {},
   "source": [
    "# kNN Classifier:"
   ]
  },
  {
   "cell_type": "code",
   "execution_count": null,
   "metadata": {},
   "outputs": [],
   "source": [
    "from sklearn.model_selection import GridSearchCV\n",
    "from sklearn.neighbors import KNeighborsClassifier\n",
    "np.random.seed(1)\n",
    "\n",
    "# I decided to explore this range of potential k values, from 1 at minimum to 100 maximum.\n",
    "m_knn_params = {'n_neighbors' : [1, 3, 5, 10, 15, 20, 25, 50, 75, 100]}\n",
    "\n",
    "m_knn_clf = GridSearchCV(estimator=KNeighborsClassifier(), param_grid=m_knn_params)\n",
    "m_knn_clf.fit(m_feat_train,m_resp_train)\n",
    "\n",
    "# Here I output the best parameter, best estimator with that parameter, and best score\n",
    "print(m_knn_clf.best_params_)\n",
    "print(m_knn_clf.best_estimator_)\n",
    "# This is the mean cross-validated score of the best estimator\n",
    "print(m_knn_clf.best_score_)"
   ]
  },
  {
   "cell_type": "code",
   "execution_count": null,
   "metadata": {},
   "outputs": [],
   "source": [
    "m_knn_yhat = m_knn_clf.predict(m_feat_test)\n",
    "print(m_knn_yhat)"
   ]
  },
  {
   "cell_type": "code",
   "execution_count": null,
   "metadata": {},
   "outputs": [],
   "source": [
    "m_knn_yhat_numeric,m_resp_test_numeric = findMSE(m_knn_yhat,m_resp_test,\"kNN\")"
   ]
  },
  {
   "cell_type": "code",
   "execution_count": null,
   "metadata": {},
   "outputs": [],
   "source": [
    "makeROC(m_knn_yhat_numeric,m_resp_test_numeric,\"kNN\")"
   ]
  },
  {
   "cell_type": "markdown",
   "metadata": {},
   "source": [
    "# Linear Support Vector Machine:"
   ]
  },
  {
   "cell_type": "code",
   "execution_count": null,
   "metadata": {},
   "outputs": [],
   "source": [
    "from sklearn.svm import SVC\n",
    "from sklearn.model_selection import GridSearchCV\n",
    "np.random.seed(1)\n",
    "\n",
    "# Since linear is the only option for kernel, this will make a linear SVM.\n",
    "# C's value ranges from 1 to 10000. C is the margin penalty\n",
    "# and specifies how wide the margin can be, and thus how many mistakes can be made.\n",
    "# Large values of C = smaller margin\n",
    "# Small values of C = larger margin\n",
    "m_linSVM_params = {'kernel' : ['linear'], 'C' : [1, 10, 100]}\n",
    "\n",
    "m_linSVM_clf = GridSearchCV(estimator=SVC(), param_grid=m_linSVM_params)\n",
    "m_linSVM_clf.fit(m_feat_train,m_resp_train)\n",
    "\n",
    "# Here I output the best parameter, best estimator with that parameter, and best score\n",
    "print(m_linSVM_clf.best_params_)\n",
    "print(m_linSVM_clf.best_estimator_)\n",
    "# This is the best mean cross-validated score of the best estimator\n",
    "print(m_linSVM_clf.best_score_)"
   ]
  },
  {
   "cell_type": "code",
   "execution_count": null,
   "metadata": {},
   "outputs": [],
   "source": [
    "m_linSVM_yhat = m_linSVM_clf.predict(m_feat_test)\n",
    "print(m_linSVM_yhat)"
   ]
  },
  {
   "cell_type": "code",
   "execution_count": null,
   "metadata": {},
   "outputs": [],
   "source": [
    "m_linSVM_yhat_numeric,m_resp_test_numeric = findMSE(m_linSVM_yhat,m_resp_test,\"linear SVM\")"
   ]
  },
  {
   "cell_type": "code",
   "execution_count": null,
   "metadata": {},
   "outputs": [],
   "source": [
    "makeROC(m_linSVM_yhat_numeric,m_resp_test_numeric,\"Linear SVM\")"
   ]
  },
  {
   "cell_type": "markdown",
   "metadata": {},
   "source": [
    "# Gaussian (Radial) Support Vector Machine"
   ]
  },
  {
   "cell_type": "code",
   "execution_count": null,
   "metadata": {},
   "outputs": [],
   "source": [
    "from sklearn.svm import SVC\n",
    "from sklearn.model_selection import GridSearchCV\n",
    "np.random.seed(1)\n",
    "\n",
    "# Since rbf is the only option for kernel, this will make a Gaussian (radial) SVM.\n",
    "# rbf stands for radial basis function kernel and is the same as a Gaussian (radial) kernel\n",
    "# C's value ranges from 1 to 100. \n",
    "# gamma's values range from 0.1 to 100\n",
    "m_gaussSVM_params = {'kernel' : ['rbf'], 'C' : [1, 10, 100], 'gamma' : [1, 10, 100]}\n",
    "\n",
    "m_gaussSVM_clf = GridSearchCV(estimator=SVC(), param_grid=m_gaussSVM_params)\n",
    "m_gaussSVM_clf.fit(m_feat_train,m_resp_train)\n",
    "\n",
    "# Here I output the best parameter, best estimator with that parameter, and best score\n",
    "print(m_gaussSVM_clf.best_params_)\n",
    "print(m_gaussSVM_clf.best_estimator_)\n",
    "# This is the best mean cross-validated score of the best estimator\n",
    "print(m_gaussSVM_clf.best_score_)"
   ]
  },
  {
   "cell_type": "code",
   "execution_count": null,
   "metadata": {},
   "outputs": [],
   "source": [
    "m_gaussSVM_yhat = m_gaussSVM_clf.predict(m_feat_test)\n",
    "print(m_gaussSVM_yhat)"
   ]
  },
  {
   "cell_type": "code",
   "execution_count": null,
   "metadata": {},
   "outputs": [],
   "source": [
    "m_gaussSVM_yhat_numeric,m_resp_test_numeric = findMSE(m_gaussSVM_yhat,m_resp_test,\"Gaussian (radial) SVM\")"
   ]
  },
  {
   "cell_type": "code",
   "execution_count": null,
   "metadata": {},
   "outputs": [],
   "source": [
    "makeROC(m_gaussSVM_yhat_numeric,m_resp_test_numeric,\"Gaussian (Radial) SVM\")"
   ]
  },
  {
   "cell_type": "markdown",
   "metadata": {},
   "source": [
    "# Final Summary:"
   ]
  },
  {
   "cell_type": "markdown",
   "metadata": {},
   "source": [
    "## Forensic Data (IL vs SUB)\n",
    "|Model|MSE|ROC Observation|AUC|\n",
    "|---|---|---|---|\n",
    "|Logistic Regression|0.072|Looks perfectly flush against left and top edge|0.99|\n",
    "|LDA|0.289|Left edge is flush until about 0.8, then it slopes upwards|0.92|\n",
    "|kNN|0.404|ROC has much of the space under its curve, but it is not flush against edges|0.84|\n",
    "|Linear SVM|0.052|Perfectly flush against left and top edge|1.00|\n",
    "|Gaussian SVM||||"
   ]
  },
  {
   "cell_type": "markdown",
   "metadata": {},
   "source": [
    "Based on the above results, it appears that logistic regression and linear SVM perform the best, with nearly perfect AUCs. Note that the MSE, ROC, and AUC are calculated on the test data, so this testifies to the efficacy of these models!"
   ]
  }
 ],
 "metadata": {
  "kernelspec": {
   "display_name": "Python 3",
   "language": "python",
   "name": "python3"
  },
  "language_info": {
   "codemirror_mode": {
    "name": "ipython",
    "version": 3
   },
   "file_extension": ".py",
   "mimetype": "text/x-python",
   "name": "python",
   "nbconvert_exporter": "python",
   "pygments_lexer": "ipython3",
   "version": "3.9.13"
  }
 },
 "nbformat": 4,
 "nbformat_minor": 2
}
